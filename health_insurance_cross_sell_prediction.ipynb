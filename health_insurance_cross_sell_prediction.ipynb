{
 "cells": [
  {
   "cell_type": "code",
   "execution_count": null,
   "id": "8397fca9",
   "metadata": {},
   "outputs": [],
   "source": [
    "import numpy as np # manip des arrays (tableaux)\n",
    "import pandas as pd # manip des dataframes\n",
    "import matplotlib.pyplot as plt # construct des graphes : barplot, cammenberts\n",
    "import seaborn as sns"
   ]
  },
  {
   "cell_type": "markdown",
   "id": "42cc66d5",
   "metadata": {},
   "source": [
    "# 1. Exploration des données"
   ]
  },
  {
   "cell_type": "markdown",
   "id": "842e23a7",
   "metadata": {},
   "source": [
    "## 1.1. Importation des données de train et de test"
   ]
  },
  {
   "cell_type": "code",
   "execution_count": null,
   "id": "1a8bed81",
   "metadata": {},
   "outputs": [],
   "source": [
    "# train data\n",
    "train_original_df = pd.read_csv(\"data_csv/train.csv\")\n",
    "train_original_df = train_original_df.drop(['id'], axis=1) # supprimer la colonne 'id' du train_original_df\n",
    "train_original_df.head()\n",
    "#train_original_df.describe()"
   ]
  },
  {
   "cell_type": "code",
   "execution_count": null,
   "id": "2611c86c",
   "metadata": {},
   "outputs": [],
   "source": [
    "# Import data\n",
    "test_original_df = pd.read_csv(\"data_csv/test.csv\")\n",
    "test_original_df = test_original_df.drop(['id'], axis=1) # supprimer la colonne 'id' du test_original_df"
   ]
  },
  {
   "cell_type": "code",
   "execution_count": null,
   "id": "6b307a72",
   "metadata": {},
   "outputs": [],
   "source": [
    "# Affichage des premiers lignes\n",
    "test_original_df.head()"
   ]
  },
  {
   "cell_type": "code",
   "execution_count": null,
   "id": "cc10bb39",
   "metadata": {},
   "outputs": [],
   "source": [
    "# Affichage des dernieres lignes\n",
    "test_original_df.tail()"
   ]
  },
  {
   "cell_type": "code",
   "execution_count": null,
   "id": "b3f3a36c",
   "metadata": {},
   "outputs": [],
   "source": [
    "# Vérifier si on a des valeur null dans notre csv\n",
    "test_original_df.isnull().sum()"
   ]
  },
  {
   "cell_type": "code",
   "execution_count": null,
   "id": "40841047",
   "metadata": {},
   "outputs": [],
   "source": [
    "# Description de nos données\n",
    "test_original_df.describe()"
   ]
  },
  {
   "cell_type": "markdown",
   "id": "ddd9ee7c",
   "metadata": {},
   "source": [
    "## 1.2. Les statistiques des données (Repésentation graphique)"
   ]
  },
  {
   "cell_type": "code",
   "execution_count": null,
   "id": "14ad6b41",
   "metadata": {},
   "outputs": [],
   "source": [
    "# La colonne 'Gender'\n",
    "origin_train_gender_graph = train_original_df.groupby(['Gender'])['Gender'].count()\n",
    "origin_test_gender_graph = test_original_df.groupby(['Gender'])['Gender'].count()\n",
    "plt.subplot(121)\n",
    "plt.tight_layout(w_pad=10.0)\n",
    "origin_train_gender_graph.plot(kind = 'bar', rot=45, title=\"train Gender\")\n",
    "plt.subplot(122)\n",
    "origin_test_gender_graph.plot(kind = 'bar', rot=45, title=\"test Gender\")"
   ]
  },
  {
   "cell_type": "code",
   "execution_count": null,
   "id": "b0ea0793",
   "metadata": {},
   "outputs": [],
   "source": [
    "# La colonne 'Vehicle_Age'\n",
    "origin_train_vehicleAge_graph = train_original_df.groupby(['Vehicle_Age'])['Vehicle_Age'].count()\n",
    "origin_test_vehicleAge_graph = test_original_df.groupby(['Vehicle_Age'])['Vehicle_Age'].count()\n",
    "plt.subplot(121)\n",
    "plt.tight_layout(w_pad=10.0)\n",
    "origin_train_vehicleAge_graph.plot(kind = 'bar', rot=45, title=\"train Vehicle_Age\")\n",
    "plt.subplot(122)\n",
    "origin_test_vehicleAge_graph.plot(kind = 'bar', rot=45, title=\"test Vehicle_Age\")"
   ]
  },
  {
   "cell_type": "markdown",
   "id": "a0a2403d",
   "metadata": {},
   "source": [
    "# Encodage des données du string en numérique"
   ]
  },
  {
   "cell_type": "code",
   "execution_count": null,
   "id": "c263968f",
   "metadata": {},
   "outputs": [],
   "source": [
    "train_encoded_df = train_original_df\n",
    "test_encoded_df = test_original_df"
   ]
  },
  {
   "cell_type": "code",
   "execution_count": null,
   "id": "73ffe1b3",
   "metadata": {},
   "outputs": [],
   "source": [
    "from sklearn.preprocessing import scale, LabelEncoder\n",
    "def toEncodeData(df, colomn):\n",
    "    le = LabelEncoder()\n",
    "    le.fit(df[colomn])\n",
    "    print(le.classes_)\n",
    "    df[colomn] = le.transform(df[colomn])"
   ]
  },
  {
   "cell_type": "code",
   "execution_count": null,
   "id": "34db9f46",
   "metadata": {},
   "outputs": [],
   "source": [
    "# Encoder la colonne 'Gender'\n",
    "toEncodeData(train_encoded_df, 'Gender')\n",
    "toEncodeData(test_encoded_df, 'Gender')"
   ]
  },
  {
   "cell_type": "code",
   "execution_count": null,
   "id": "4c5f8f3c",
   "metadata": {},
   "outputs": [],
   "source": [
    "# Encoder la colonne 'Gender'\n",
    "toEncodeData(train_encoded_df, 'Vehicle_Age')\n",
    "toEncodeData(test_encoded_df, 'Vehicle_Age')"
   ]
  },
  {
   "cell_type": "code",
   "execution_count": null,
   "id": "4e8cd1cc",
   "metadata": {},
   "outputs": [],
   "source": [
    "# Encoder la colonne 'Vehicle_Damage'\n",
    "toEncodeData(train_encoded_df, 'Vehicle_Damage')\n",
    "toEncodeData(test_encoded_df, 'Vehicle_Damage')"
   ]
  },
  {
   "cell_type": "code",
   "execution_count": null,
   "id": "89786c32",
   "metadata": {},
   "outputs": [],
   "source": [
    "#train_encoded_df.head()\n",
    "test_encoded_df.head()"
   ]
  },
  {
   "cell_type": "markdown",
   "id": "9b10b00f",
   "metadata": {},
   "source": [
    "## Entrainer un model de classification"
   ]
  },
  {
   "cell_type": "code",
   "execution_count": null,
   "id": "39b7f490",
   "metadata": {},
   "outputs": [],
   "source": [
    "from sklearn.neighbors import KNeighborsClassifier"
   ]
  },
  {
   "cell_type": "code",
   "execution_count": null,
   "id": "c41ad8dd",
   "metadata": {},
   "outputs": [],
   "source": [
    "# initialiser notre model\n",
    "model = KNeighborsClassifier()"
   ]
  },
  {
   "cell_type": "code",
   "execution_count": null,
   "id": "096c1239",
   "metadata": {},
   "outputs": [],
   "source": [
    "\"\"\" pour entrainer un model, il faut qu'on aura 2 tableuax numpy,\n",
    "    mais dans notre dataset on 'a q'un seul tableau pendas ==> donc on doit creer les 2 tableau numpy telque:\n",
    "    Y: représente la colonne 'Response'\n",
    "    X: représente le reste (toute les colonnes sauf 'Response') \n",
    "    *** X, Y ne sont pas des tableaux numpy, sont des dataframes, sachant que pendas est construit sur la base de numpy\n",
    "        donc on passe ces 2 tableau à 'scikit-learn' et tous va bien se passé ***\n",
    "\"\"\""
   ]
  },
  {
   "cell_type": "code",
   "execution_count": null,
   "id": "b84cdc28",
   "metadata": {},
   "outputs": [],
   "source": [
    "# préparer les tableau X et Y\n",
    "Y = train_encoded_df['Response']\n",
    "X = train_encoded_df.drop('Response', axis=1) # eliminer la colonne 'Response'"
   ]
  },
  {
   "cell_type": "markdown",
   "id": "e75174e9",
   "metadata": {},
   "source": [
    "### Entraîner notre model"
   ]
  },
  {
   "cell_type": "code",
   "execution_count": null,
   "id": "ec8dffd2",
   "metadata": {},
   "outputs": [],
   "source": [
    "model.fit(X, Y)"
   ]
  },
  {
   "cell_type": "markdown",
   "id": "6ecdc59e",
   "metadata": {},
   "source": [
    "### Évaluer la performance de notre model"
   ]
  },
  {
   "cell_type": "code",
   "execution_count": null,
   "id": "067d520e",
   "metadata": {},
   "outputs": [],
   "source": [
    "model.score(X, Y)"
   ]
  },
  {
   "cell_type": "code",
   "execution_count": 167,
   "id": "5670053a",
   "metadata": {},
   "outputs": [
    {
     "data": {
      "text/plain": [
       "381109"
      ]
     },
     "execution_count": 167,
     "metadata": {},
     "output_type": "execute_result"
    }
   ],
   "source": [
    "len(model.predict(X))"
   ]
  },
  {
   "cell_type": "markdown",
   "id": "6010d9e3",
   "metadata": {},
   "source": [
    "### Prédiction"
   ]
  },
  {
   "cell_type": "code",
   "execution_count": 168,
   "id": "97f0c2a0",
   "metadata": {},
   "outputs": [],
   "source": [
    "\n",
    "def interested(gender, age, driving_license, region_code, previously_insured, vehicle_age, vehicle_damage, annual_premium, policy_sales_channel, vintage):\n",
    "    x_predict = np.array([\n",
    "        gender, age, driving_license, region_code, previously_insured, vehicle_age, vehicle_damage, annual_premium, policy_sales_channel, vintage\n",
    "    ]).reshape(1, 10)\n",
    "    predictClass = model.predict(x_predict) # pédicri à quelle classe (intérissé ou non)\n",
    "    probaPredict = model.predict_proba(x_predict) # la probabilité d'être intérissé ou non\n",
    "    return (predictClass, probaPredict)"
   ]
  },
  {
   "cell_type": "code",
   "execution_count": 169,
   "id": "057646cf",
   "metadata": {},
   "outputs": [
    {
     "data": {
      "text/html": [
       "<div>\n",
       "<style scoped>\n",
       "    .dataframe tbody tr th:only-of-type {\n",
       "        vertical-align: middle;\n",
       "    }\n",
       "\n",
       "    .dataframe tbody tr th {\n",
       "        vertical-align: top;\n",
       "    }\n",
       "\n",
       "    .dataframe thead th {\n",
       "        text-align: right;\n",
       "    }\n",
       "</style>\n",
       "<table border=\"1\" class=\"dataframe\">\n",
       "  <thead>\n",
       "    <tr style=\"text-align: right;\">\n",
       "      <th></th>\n",
       "      <th>Gender</th>\n",
       "      <th>Age</th>\n",
       "      <th>Driving_License</th>\n",
       "      <th>Region_Code</th>\n",
       "      <th>Previously_Insured</th>\n",
       "      <th>Vehicle_Age</th>\n",
       "      <th>Vehicle_Damage</th>\n",
       "      <th>Annual_Premium</th>\n",
       "      <th>Policy_Sales_Channel</th>\n",
       "      <th>Vintage</th>\n",
       "    </tr>\n",
       "  </thead>\n",
       "  <tbody>\n",
       "    <tr>\n",
       "      <th>0</th>\n",
       "      <td>1</td>\n",
       "      <td>25</td>\n",
       "      <td>1</td>\n",
       "      <td>11.0</td>\n",
       "      <td>1</td>\n",
       "      <td>1</td>\n",
       "      <td>0</td>\n",
       "      <td>35786.0</td>\n",
       "      <td>152.0</td>\n",
       "      <td>53</td>\n",
       "    </tr>\n",
       "    <tr>\n",
       "      <th>1</th>\n",
       "      <td>1</td>\n",
       "      <td>40</td>\n",
       "      <td>1</td>\n",
       "      <td>28.0</td>\n",
       "      <td>0</td>\n",
       "      <td>0</td>\n",
       "      <td>1</td>\n",
       "      <td>33762.0</td>\n",
       "      <td>7.0</td>\n",
       "      <td>111</td>\n",
       "    </tr>\n",
       "    <tr>\n",
       "      <th>2</th>\n",
       "      <td>1</td>\n",
       "      <td>47</td>\n",
       "      <td>1</td>\n",
       "      <td>28.0</td>\n",
       "      <td>0</td>\n",
       "      <td>0</td>\n",
       "      <td>1</td>\n",
       "      <td>40050.0</td>\n",
       "      <td>124.0</td>\n",
       "      <td>199</td>\n",
       "    </tr>\n",
       "    <tr>\n",
       "      <th>3</th>\n",
       "      <td>1</td>\n",
       "      <td>24</td>\n",
       "      <td>1</td>\n",
       "      <td>27.0</td>\n",
       "      <td>1</td>\n",
       "      <td>1</td>\n",
       "      <td>1</td>\n",
       "      <td>37356.0</td>\n",
       "      <td>152.0</td>\n",
       "      <td>187</td>\n",
       "    </tr>\n",
       "    <tr>\n",
       "      <th>4</th>\n",
       "      <td>1</td>\n",
       "      <td>27</td>\n",
       "      <td>1</td>\n",
       "      <td>28.0</td>\n",
       "      <td>1</td>\n",
       "      <td>1</td>\n",
       "      <td>0</td>\n",
       "      <td>59097.0</td>\n",
       "      <td>152.0</td>\n",
       "      <td>297</td>\n",
       "    </tr>\n",
       "  </tbody>\n",
       "</table>\n",
       "</div>"
      ],
      "text/plain": [
       "   Gender  Age  Driving_License  Region_Code  Previously_Insured  Vehicle_Age  \\\n",
       "0       1   25                1         11.0                   1            1   \n",
       "1       1   40                1         28.0                   0            0   \n",
       "2       1   47                1         28.0                   0            0   \n",
       "3       1   24                1         27.0                   1            1   \n",
       "4       1   27                1         28.0                   1            1   \n",
       "\n",
       "   Vehicle_Damage  Annual_Premium  Policy_Sales_Channel  Vintage  \n",
       "0               0         35786.0                 152.0       53  \n",
       "1               1         33762.0                   7.0      111  \n",
       "2               1         40050.0                 124.0      199  \n",
       "3               1         37356.0                 152.0      187  \n",
       "4               0         59097.0                 152.0      297  "
      ]
     },
     "execution_count": 169,
     "metadata": {},
     "output_type": "execute_result"
    }
   ],
   "source": [
    "test_encoded_df.head()"
   ]
  },
  {
   "cell_type": "code",
   "execution_count": 170,
   "id": "380f29e6",
   "metadata": {},
   "outputs": [
    {
     "name": "stdout",
     "output_type": "stream",
     "text": [
      "(array([0]), array([[1., 0.]]))\n"
     ]
    },
    {
     "name": "stderr",
     "output_type": "stream",
     "text": [
      "/home/raid/.local/lib/python3.8/site-packages/sklearn/base.py:445: UserWarning: X does not have valid feature names, but KNeighborsClassifier was fitted with feature names\n",
      "  warnings.warn(\n",
      "/home/raid/.local/lib/python3.8/site-packages/sklearn/base.py:445: UserWarning: X does not have valid feature names, but KNeighborsClassifier was fitted with feature names\n",
      "  warnings.warn(\n"
     ]
    }
   ],
   "source": [
    "print(interested(1, 25, 1, 11.0, 1, 1, 1, 35786.0, 152.0, 53))"
   ]
  }
 ],
 "metadata": {
  "kernelspec": {
   "display_name": "Python 3 (ipykernel)",
   "language": "python",
   "name": "python3"
  },
  "language_info": {
   "codemirror_mode": {
    "name": "ipython",
    "version": 3
   },
   "file_extension": ".py",
   "mimetype": "text/x-python",
   "name": "python",
   "nbconvert_exporter": "python",
   "pygments_lexer": "ipython3",
   "version": "3.8.10"
  }
 },
 "nbformat": 4,
 "nbformat_minor": 5
}
