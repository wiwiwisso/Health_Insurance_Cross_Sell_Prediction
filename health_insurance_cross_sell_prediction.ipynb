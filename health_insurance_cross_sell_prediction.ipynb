{
 "cells": [
  {
   "cell_type": "code",
   "execution_count": null,
   "id": "8397fca9",
   "metadata": {},
   "outputs": [],
   "source": [
    "import numpy as np # manip des arrays (tableaux)\n",
    "import pandas as pd # manip des dataframes\n",
    "import matplotlib.pyplot as plt # construct des graphes : barplot, cammenberts\n",
    "import seaborn as sns"
   ]
  },
  {
   "cell_type": "markdown",
   "id": "42cc66d5",
   "metadata": {},
   "source": [
    "# 1. Exploration des données"
   ]
  },
  {
   "cell_type": "markdown",
   "id": "842e23a7",
   "metadata": {},
   "source": [
    "## 1.1. Importation des données de train et de test"
   ]
  },
  {
   "cell_type": "code",
   "execution_count": null,
   "id": "1a8bed81",
   "metadata": {},
   "outputs": [],
   "source": [
    "# import train data\n",
    "train_original_df = pd.read_csv(\"data_csv/train.csv\")\n",
    "train_original_df.head()\n",
    "#train_original_df.describe()"
   ]
  },
  {
   "cell_type": "code",
   "execution_count": null,
   "id": "2611c86c",
   "metadata": {},
   "outputs": [],
   "source": [
    "# import test data\n",
    "test_original_df = pd.read_csv(\"data_csv/test.csv\")"
   ]
  },
  {
   "cell_type": "code",
   "execution_count": null,
   "id": "6b307a72",
   "metadata": {},
   "outputs": [],
   "source": [
    "# Affichage des premiers lignes\n",
    "test_original_df.head()"
   ]
  },
  {
   "cell_type": "code",
   "execution_count": null,
   "id": "cc10bb39",
   "metadata": {},
   "outputs": [],
   "source": [
    "# Affichage des dernieres lignes\n",
    "test_original_df.tail()"
   ]
  },
  {
   "cell_type": "code",
   "execution_count": null,
   "id": "40841047",
   "metadata": {},
   "outputs": [],
   "source": [
    "# Description de nos données\n",
    "test_original_df.describe()"
   ]
  },
  {
   "cell_type": "markdown",
   "id": "ddd9ee7c",
   "metadata": {},
   "source": [
    "## 1.2. Les statistiques des données (Repésentation graphique)"
   ]
  },
  {
   "cell_type": "code",
   "execution_count": null,
   "id": "14ad6b41",
   "metadata": {},
   "outputs": [],
   "source": [
    "# La colonne 'Gender'\n",
    "origin_train_gender_graph = train_original_df.groupby(['Gender'])['Gender'].count()\n",
    "origin_test_gender_graph = test_original_df.groupby(['Gender'])['Gender'].count()\n",
    "plt.subplot(121)\n",
    "plt.tight_layout(w_pad=10.0)\n",
    "origin_train_gender_graph.plot(kind = 'bar', rot=45, title=\"train Gender\")\n",
    "plt.subplot(122)\n",
    "origin_test_gender_graph.plot(kind = 'bar', rot=45, title=\"test Gender\")"
   ]
  },
  {
   "cell_type": "code",
   "execution_count": null,
   "id": "b0ea0793",
   "metadata": {},
   "outputs": [],
   "source": [
    "# La colonne 'Vehicle_Age'\n",
    "origin_train_vehicleAge_graph = train_original_df.groupby(['Vehicle_Age'])['Vehicle_Age'].count()\n",
    "origin_test_vehicleAge_graph = test_original_df.groupby(['Vehicle_Age'])['Vehicle_Age'].count()\n",
    "plt.subplot(121)\n",
    "plt.tight_layout(w_pad=10.0)\n",
    "origin_train_vehicleAge_graph.plot(kind = 'bar', rot=45, title=\"train Vehicle_Age\")\n",
    "plt.subplot(122)\n",
    "origin_test_vehicleAge_graph.plot(kind = 'bar', rot=45, title=\"test Vehicle_Age\")"
   ]
  },
  {
   "cell_type": "markdown",
   "id": "a0a2403d",
   "metadata": {},
   "source": [
    "# 2. Pre-Processing"
   ]
  },
  {
   "cell_type": "markdown",
   "id": "306fed9a",
   "metadata": {},
   "source": [
    "## 2.1. Elimination des colonnes inutiles"
   ]
  },
  {
   "cell_type": "code",
   "execution_count": null,
   "id": "13658aa2",
   "metadata": {},
   "outputs": [],
   "source": [
    " # eliminer la colonne 'id' du train_original_df\n",
    "train_original_df = train_original_df.drop(['id'], axis=1)"
   ]
  },
  {
   "cell_type": "code",
   "execution_count": null,
   "id": "3c01a288",
   "metadata": {},
   "outputs": [],
   "source": [
    "# eliminer la colonne 'id' du test_original_df\n",
    "test_original_df = test_original_df.drop(['id'], axis=1)"
   ]
  },
  {
   "cell_type": "markdown",
   "id": "8576f89d",
   "metadata": {},
   "source": [
    "## 2.2. Vérification d'existance de valeurs null"
   ]
  },
  {
   "cell_type": "code",
   "execution_count": null,
   "id": "c4e629a1",
   "metadata": {},
   "outputs": [],
   "source": [
    "# Vérifier si on a des valeur null dans train_original_df\n",
    "train_original_df.isnull().sum() # retourne la somme des valeurs nulles dans chaque colonne du dataframe"
   ]
  },
  {
   "cell_type": "code",
   "execution_count": null,
   "id": "628d9f3c",
   "metadata": {},
   "outputs": [],
   "source": [
    "# Vérifier si on a des valeur null dans test_original_df\n",
    "test_original_df.isnull().sum() # retourne la somme des valeurs nulles dans chaque colonne du dataframe"
   ]
  },
  {
   "cell_type": "markdown",
   "id": "582bb62d",
   "metadata": {},
   "source": [
    "## 2.3. Encoding (transformer les valeurs string en valeurs numériques)"
   ]
  },
  {
   "cell_type": "code",
   "execution_count": null,
   "id": "71d8dad5",
   "metadata": {},
   "outputs": [],
   "source": [
    "train_encoded_df = train_original_df\n",
    "test_encoded_df = test_original_df"
   ]
  },
  {
   "cell_type": "code",
   "execution_count": null,
   "id": "73ffe1b3",
   "metadata": {},
   "outputs": [],
   "source": [
    "from sklearn.preprocessing import LabelEncoder\n",
    "def toEncodeData(df, colomn):\n",
    "    le = LabelEncoder()\n",
    "    le.fit(df[colomn]) # détecter les classes\n",
    "    print(le.classes_) # afficher les classes sous forme d'une liste\n",
    "    df[colomn] = le.transform(df[colomn]) # transformer les classes (toutes les valeurs string) en valeurs numériques"
   ]
  },
  {
   "cell_type": "code",
   "execution_count": null,
   "id": "34db9f46",
   "metadata": {},
   "outputs": [],
   "source": [
    "# Encoder la colonne 'Gender'\n",
    "toEncodeData(train_encoded_df, 'Gender')\n",
    "toEncodeData(test_encoded_df, 'Gender')"
   ]
  },
  {
   "cell_type": "code",
   "execution_count": null,
   "id": "4c5f8f3c",
   "metadata": {},
   "outputs": [],
   "source": [
    "# Encoder la colonne 'Gender'\n",
    "toEncodeData(train_encoded_df, 'Vehicle_Age')\n",
    "toEncodeData(test_encoded_df, 'Vehicle_Age')"
   ]
  },
  {
   "cell_type": "code",
   "execution_count": null,
   "id": "4e8cd1cc",
   "metadata": {},
   "outputs": [],
   "source": [
    "# Encoder la colonne 'Vehicle_Damage'\n",
    "toEncodeData(train_encoded_df, 'Vehicle_Damage')\n",
    "toEncodeData(test_encoded_df, 'Vehicle_Damage')"
   ]
  },
  {
   "cell_type": "code",
   "execution_count": null,
   "id": "89786c32",
   "metadata": {},
   "outputs": [],
   "source": [
    "#train_encoded_df.head()\n",
    "train_encoded_df.head()"
   ]
  },
  {
   "cell_type": "markdown",
   "id": "9b10b00f",
   "metadata": {},
   "source": [
    "# 3. Entraîner un model de classification"
   ]
  },
  {
   "cell_type": "markdown",
   "id": "73752f45",
   "metadata": {},
   "source": [
    "## 3.1. Choix de l'algorithme"
   ]
  },
  {
   "cell_type": "code",
   "execution_count": null,
   "id": "39b7f490",
   "metadata": {},
   "outputs": [],
   "source": [
    "from sklearn.neighbors import KNeighborsClassifier\n",
    "# initialiser notre model\n",
    "model = KNeighborsClassifier()"
   ]
  },
  {
   "cell_type": "markdown",
   "id": "1dfe34a7",
   "metadata": {},
   "source": [
    "## 3.2. Préparation de tableau numpy x et y"
   ]
  },
  {
   "cell_type": "code",
   "execution_count": null,
   "id": "096c1239",
   "metadata": {},
   "outputs": [],
   "source": [
    "\"\"\" pour entrainer un model, il faut qu'on aura 2 tableuax numpy,\n",
    "    mais dans notre dataset on 'a q'un seul tableau pendas ==> donc on doit creer les 2 tableau numpy telque:\n",
    "    Y: représente la colonne 'Response'\n",
    "    X: représente le reste (toute les colonnes sauf 'Response') \n",
    "    *** X, Y ne sont pas des tableaux numpy, sont des dataframes, sachant que pendas est construit sur la base de numpy\n",
    "        donc on passe ces 2 tableau à 'scikit-learn' et tous va bien se passé ***\n",
    "\"\"\""
   ]
  },
  {
   "cell_type": "code",
   "execution_count": null,
   "id": "b84cdc28",
   "metadata": {},
   "outputs": [],
   "source": [
    "# préparer les tableau X et Y\n",
    "y = train_encoded_df['Response']\n",
    "X = train_encoded_df.drop('Response', axis=1).to_numpy() # eliminer la colonne 'Response'"
   ]
  },
  {
   "cell_type": "markdown",
   "id": "e75174e9",
   "metadata": {},
   "source": [
    "## 3.3. Entraîner notre model"
   ]
  },
  {
   "cell_type": "code",
   "execution_count": null,
   "id": "ec8dffd2",
   "metadata": {},
   "outputs": [],
   "source": [
    "model.fit(X, y)"
   ]
  },
  {
   "cell_type": "markdown",
   "id": "6ecdc59e",
   "metadata": {},
   "source": [
    "# 4. Évaluer la performance de notre model"
   ]
  },
  {
   "cell_type": "code",
   "execution_count": null,
   "id": "067d520e",
   "metadata": {},
   "outputs": [],
   "source": [
    "model.score(X, y)"
   ]
  },
  {
   "cell_type": "markdown",
   "id": "6010d9e3",
   "metadata": {},
   "source": [
    "# 5. Prédiction"
   ]
  },
  {
   "cell_type": "code",
   "execution_count": null,
   "id": "a86e2695",
   "metadata": {},
   "outputs": [],
   "source": [
    "def interested(gender, age, driving_license, region_code, previously_insured, vehicle_age, vehicle_damage, annual_premium, policy_sales_channel, vintage):\n",
    "    x_predict = np.array([\n",
    "        gender, age, driving_license, region_code, previously_insured, vehicle_age, vehicle_damage, annual_premium, policy_sales_channel, vintage\n",
    "    ]).reshape(1, 10)\n",
    "    predictClass = model.predict(x_predict) # pédicri à quelle classe (intérissé ou non)\n",
    "    probaPredict = model.predict_proba(x_predict) # la probabilité d'être intérissé ou non\n",
    "    return (predictClass, probaPredict)"
   ]
  },
  {
   "cell_type": "markdown",
   "id": "9b3d2e9b",
   "metadata": {},
   "source": [
    "# 6. Tester le modèle"
   ]
  },
  {
   "cell_type": "code",
   "execution_count": null,
   "id": "380f29e6",
   "metadata": {},
   "outputs": [],
   "source": [
    "print(interested(1, 74, 1, 11.0, 1, 2, 1, 35786.0, 152.0, 53))"
   ]
  }
 ],
 "metadata": {
  "kernelspec": {
   "display_name": "Python 3 (ipykernel)",
   "language": "python",
   "name": "python3"
  },
  "language_info": {
   "codemirror_mode": {
    "name": "ipython",
    "version": 3
   },
   "file_extension": ".py",
   "mimetype": "text/x-python",
   "name": "python",
   "nbconvert_exporter": "python",
   "pygments_lexer": "ipython3",
   "version": "3.9.1"
  }
 },
 "nbformat": 4,
 "nbformat_minor": 5
}
