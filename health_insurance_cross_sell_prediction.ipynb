{
 "cells": [
  {
   "cell_type": "code",
   "execution_count": null,
   "id": "8397fca9",
   "metadata": {},
   "outputs": [],
   "source": [
    "import numpy as np # manip des arrays (tableaux)\n",
    "import pandas as pd # manip des dataframes\n",
    "import matplotlib.pyplot as plt # construct des graphes : barplot, cammenberts\n",
    "import seaborn as sns"
   ]
  },
  {
   "cell_type": "markdown",
   "id": "42cc66d5",
   "metadata": {},
   "source": [
    "# 1. Exploration des données"
   ]
  },
  {
   "cell_type": "markdown",
   "id": "842e23a7",
   "metadata": {},
   "source": [
    "## 1.1. Importation des données de train et de test"
   ]
  },
  {
   "cell_type": "code",
   "execution_count": null,
   "id": "1a8bed81",
   "metadata": {},
   "outputs": [],
   "source": [
    "# train data\n",
    "train_original_df = pd.read_csv(\"data_csv/train.csv\")\n",
    "train_original_df = train_original_df.drop(['id'], axis=1) # supprimer la colonne 'id' du train_original_df\n",
    "train_original_df.head()\n",
    "#train_original_df.describe()"
   ]
  },
  {
   "cell_type": "code",
   "execution_count": null,
   "id": "2611c86c",
   "metadata": {},
   "outputs": [],
   "source": [
    "# test data\n",
    "test_original_df = pd.read_csv(\"data_csv/test.csv\")\n",
    "test_original_df = test_original_df.drop(['id'], axis=1) # supprimer la colonne 'id' du test_original_df\n",
    "test_original_df.head()"
   ]
  },
  {
   "cell_type": "markdown",
   "id": "ddd9ee7c",
   "metadata": {},
   "source": [
    "## 1.2. Les statistiques des données (Repésentation graphique)"
   ]
  },
  {
   "cell_type": "code",
   "execution_count": null,
   "id": "14ad6b41",
   "metadata": {},
   "outputs": [],
   "source": [
    "# La colonne 'Gender'\n",
    "origin_train_gender_graph = train_original_df.groupby(['Gender'])['Gender'].count()\n",
    "origin_test_gender_graph = test_original_df.groupby(['Gender'])['Gender'].count()\n",
    "plt.subplot(121)\n",
    "plt.tight_layout(w_pad=10.0)\n",
    "origin_train_gender_graph.plot(kind = 'bar', rot=45, title=\"train Gender\")\n",
    "plt.subplot(122)\n",
    "origin_test_gender_graph.plot(kind = 'bar', rot=45, title=\"test Gender\")"
   ]
  },
  {
   "cell_type": "code",
   "execution_count": null,
   "id": "b0ea0793",
   "metadata": {},
   "outputs": [],
   "source": [
    "# La colonne 'Vehicle_Age'\n",
    "origin_train_vehicleAge_graph = train_original_df.groupby(['Vehicle_Age'])['Vehicle_Age'].count()\n",
    "origin_test_vehicleAge_graph = test_original_df.groupby(['Vehicle_Age'])['Vehicle_Age'].count()\n",
    "plt.subplot(121)\n",
    "plt.tight_layout(w_pad=10.0)\n",
    "origin_train_vehicleAge_graph.plot(kind = 'bar', rot=45, title=\"train Vehicle_Age\")\n",
    "plt.subplot(122)\n",
    "origin_test_vehicleAge_graph.plot(kind = 'bar', rot=45, title=\"test Vehicle_Age\")"
   ]
  },
  {
   "cell_type": "markdown",
   "id": "a0a2403d",
   "metadata": {},
   "source": [
    "# Encodage des données du string en numérique"
   ]
  },
  {
   "cell_type": "code",
   "execution_count": null,
   "id": "c263968f",
   "metadata": {},
   "outputs": [],
   "source": [
    "train_encoded_df = train_original_df"
   ]
  },
  {
   "cell_type": "code",
   "execution_count": null,
   "id": "73ffe1b3",
   "metadata": {},
   "outputs": [],
   "source": [
    "from sklearn.preprocessing import scale, LabelEncoder\n",
    "def toEncodeData(df, colomn):\n",
    "    le = LabelEncoder()\n",
    "    le.fit(df[colomn])\n",
    "    print(le.classes_)\n",
    "    df[colomn] = le.transform(df[colomn])"
   ]
  },
  {
   "cell_type": "code",
   "execution_count": null,
   "id": "34db9f46",
   "metadata": {},
   "outputs": [],
   "source": [
    "# Encoder la colonne 'Gender'\n",
    "toEncodeData(train_encoded_df, 'Gender')"
   ]
  },
  {
   "cell_type": "code",
   "execution_count": null,
   "id": "4c5f8f3c",
   "metadata": {},
   "outputs": [],
   "source": [
    "# Encoder la colonne 'Gender'\n",
    "toEncodeData(train_encoded_df, 'Vehicle_Age')"
   ]
  },
  {
   "cell_type": "code",
   "execution_count": null,
   "id": "4e8cd1cc",
   "metadata": {},
   "outputs": [],
   "source": [
    "# Encoder la colonne 'Vehicle_Damage'\n",
    "toEncodeData(train_encoded_df, 'Vehicle_Damage')"
   ]
  },
  {
   "cell_type": "code",
   "execution_count": null,
   "id": "89786c32",
   "metadata": {},
   "outputs": [],
   "source": [
    "train_encoded_df.head()"
   ]
  }
 ],
 "metadata": {
  "kernelspec": {
   "display_name": "Python 3 (ipykernel)",
   "language": "python",
   "name": "python3"
  },
  "language_info": {
   "codemirror_mode": {
    "name": "ipython",
    "version": 3
   },
   "file_extension": ".py",
   "mimetype": "text/x-python",
   "name": "python",
   "nbconvert_exporter": "python",
   "pygments_lexer": "ipython3",
   "version": "3.8.10"
  }
 },
 "nbformat": 4,
 "nbformat_minor": 5
}
