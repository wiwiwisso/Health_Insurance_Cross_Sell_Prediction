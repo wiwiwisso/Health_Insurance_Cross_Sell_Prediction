{
 "cells": [
  {
   "cell_type": "code",
   "execution_count": 75,
   "id": "8397fca9",
   "metadata": {},
   "outputs": [],
   "source": [
    "import numpy as np # manip des arrays (tableaux)\n",
    "import pandas as pd # manip des dataframes\n",
    "import matplotlib.pyplot as plt # construct des graphes : barplot, cammenberts\n",
    "import seaborn as sns"
   ]
  },
  {
   "cell_type": "markdown",
   "id": "42cc66d5",
   "metadata": {},
   "source": [
    "# 1. Exploration des données"
   ]
  },
  {
   "cell_type": "markdown",
   "id": "842e23a7",
   "metadata": {},
   "source": [
    "## 1.1. Importation des données de train et de test"
   ]
  },
  {
   "cell_type": "code",
   "execution_count": 76,
   "id": "1a8bed81",
   "metadata": {},
   "outputs": [
    {
     "data": {
      "text/plain": [
       "381109"
      ]
     },
     "execution_count": 76,
     "metadata": {},
     "output_type": "execute_result"
    }
   ],
   "source": [
    "# import train data\n",
    "train_original_df = pd.read_csv(\"data_csv/train.csv\")\n",
    "train_original_df.head()\n",
    "#train_original_df.describe()\n",
    "len(train_original_df)"
   ]
  },
  {
   "cell_type": "code",
   "execution_count": 77,
   "id": "2611c86c",
   "metadata": {},
   "outputs": [],
   "source": [
    "# import test data\n",
    "test_original_df = pd.read_csv(\"data_csv/test.csv\")"
   ]
  },
  {
   "cell_type": "code",
   "execution_count": 78,
   "id": "6b307a72",
   "metadata": {},
   "outputs": [
    {
     "data": {
      "text/html": [
       "<div>\n",
       "<style scoped>\n",
       "    .dataframe tbody tr th:only-of-type {\n",
       "        vertical-align: middle;\n",
       "    }\n",
       "\n",
       "    .dataframe tbody tr th {\n",
       "        vertical-align: top;\n",
       "    }\n",
       "\n",
       "    .dataframe thead th {\n",
       "        text-align: right;\n",
       "    }\n",
       "</style>\n",
       "<table border=\"1\" class=\"dataframe\">\n",
       "  <thead>\n",
       "    <tr style=\"text-align: right;\">\n",
       "      <th></th>\n",
       "      <th>id</th>\n",
       "      <th>Gender</th>\n",
       "      <th>Age</th>\n",
       "      <th>Driving_License</th>\n",
       "      <th>Region_Code</th>\n",
       "      <th>Previously_Insured</th>\n",
       "      <th>Vehicle_Age</th>\n",
       "      <th>Vehicle_Damage</th>\n",
       "      <th>Annual_Premium</th>\n",
       "      <th>Policy_Sales_Channel</th>\n",
       "      <th>Vintage</th>\n",
       "    </tr>\n",
       "  </thead>\n",
       "  <tbody>\n",
       "    <tr>\n",
       "      <th>0</th>\n",
       "      <td>381110</td>\n",
       "      <td>Male</td>\n",
       "      <td>25</td>\n",
       "      <td>1</td>\n",
       "      <td>11.0</td>\n",
       "      <td>1</td>\n",
       "      <td>&lt; 1 Year</td>\n",
       "      <td>No</td>\n",
       "      <td>35786.0</td>\n",
       "      <td>152.0</td>\n",
       "      <td>53</td>\n",
       "    </tr>\n",
       "    <tr>\n",
       "      <th>1</th>\n",
       "      <td>381111</td>\n",
       "      <td>Male</td>\n",
       "      <td>40</td>\n",
       "      <td>1</td>\n",
       "      <td>28.0</td>\n",
       "      <td>0</td>\n",
       "      <td>1-2 Year</td>\n",
       "      <td>Yes</td>\n",
       "      <td>33762.0</td>\n",
       "      <td>7.0</td>\n",
       "      <td>111</td>\n",
       "    </tr>\n",
       "    <tr>\n",
       "      <th>2</th>\n",
       "      <td>381112</td>\n",
       "      <td>Male</td>\n",
       "      <td>47</td>\n",
       "      <td>1</td>\n",
       "      <td>28.0</td>\n",
       "      <td>0</td>\n",
       "      <td>1-2 Year</td>\n",
       "      <td>Yes</td>\n",
       "      <td>40050.0</td>\n",
       "      <td>124.0</td>\n",
       "      <td>199</td>\n",
       "    </tr>\n",
       "    <tr>\n",
       "      <th>3</th>\n",
       "      <td>381113</td>\n",
       "      <td>Male</td>\n",
       "      <td>24</td>\n",
       "      <td>1</td>\n",
       "      <td>27.0</td>\n",
       "      <td>1</td>\n",
       "      <td>&lt; 1 Year</td>\n",
       "      <td>Yes</td>\n",
       "      <td>37356.0</td>\n",
       "      <td>152.0</td>\n",
       "      <td>187</td>\n",
       "    </tr>\n",
       "    <tr>\n",
       "      <th>4</th>\n",
       "      <td>381114</td>\n",
       "      <td>Male</td>\n",
       "      <td>27</td>\n",
       "      <td>1</td>\n",
       "      <td>28.0</td>\n",
       "      <td>1</td>\n",
       "      <td>&lt; 1 Year</td>\n",
       "      <td>No</td>\n",
       "      <td>59097.0</td>\n",
       "      <td>152.0</td>\n",
       "      <td>297</td>\n",
       "    </tr>\n",
       "  </tbody>\n",
       "</table>\n",
       "</div>"
      ],
      "text/plain": [
       "       id Gender  Age  Driving_License  Region_Code  Previously_Insured  \\\n",
       "0  381110   Male   25                1         11.0                   1   \n",
       "1  381111   Male   40                1         28.0                   0   \n",
       "2  381112   Male   47                1         28.0                   0   \n",
       "3  381113   Male   24                1         27.0                   1   \n",
       "4  381114   Male   27                1         28.0                   1   \n",
       "\n",
       "  Vehicle_Age Vehicle_Damage  Annual_Premium  Policy_Sales_Channel  Vintage  \n",
       "0    < 1 Year             No         35786.0                 152.0       53  \n",
       "1    1-2 Year            Yes         33762.0                   7.0      111  \n",
       "2    1-2 Year            Yes         40050.0                 124.0      199  \n",
       "3    < 1 Year            Yes         37356.0                 152.0      187  \n",
       "4    < 1 Year             No         59097.0                 152.0      297  "
      ]
     },
     "execution_count": 78,
     "metadata": {},
     "output_type": "execute_result"
    }
   ],
   "source": [
    "# Affichage des premiers lignes\n",
    "test_original_df.head()\n",
    "#len(test_original_df)"
   ]
  },
  {
   "cell_type": "code",
   "execution_count": 79,
   "id": "cc10bb39",
   "metadata": {},
   "outputs": [
    {
     "data": {
      "text/html": [
       "<div>\n",
       "<style scoped>\n",
       "    .dataframe tbody tr th:only-of-type {\n",
       "        vertical-align: middle;\n",
       "    }\n",
       "\n",
       "    .dataframe tbody tr th {\n",
       "        vertical-align: top;\n",
       "    }\n",
       "\n",
       "    .dataframe thead th {\n",
       "        text-align: right;\n",
       "    }\n",
       "</style>\n",
       "<table border=\"1\" class=\"dataframe\">\n",
       "  <thead>\n",
       "    <tr style=\"text-align: right;\">\n",
       "      <th></th>\n",
       "      <th>id</th>\n",
       "      <th>Gender</th>\n",
       "      <th>Age</th>\n",
       "      <th>Driving_License</th>\n",
       "      <th>Region_Code</th>\n",
       "      <th>Previously_Insured</th>\n",
       "      <th>Vehicle_Age</th>\n",
       "      <th>Vehicle_Damage</th>\n",
       "      <th>Annual_Premium</th>\n",
       "      <th>Policy_Sales_Channel</th>\n",
       "      <th>Vintage</th>\n",
       "    </tr>\n",
       "  </thead>\n",
       "  <tbody>\n",
       "    <tr>\n",
       "      <th>127032</th>\n",
       "      <td>508142</td>\n",
       "      <td>Female</td>\n",
       "      <td>26</td>\n",
       "      <td>1</td>\n",
       "      <td>37.0</td>\n",
       "      <td>1</td>\n",
       "      <td>&lt; 1 Year</td>\n",
       "      <td>No</td>\n",
       "      <td>30867.0</td>\n",
       "      <td>152.0</td>\n",
       "      <td>56</td>\n",
       "    </tr>\n",
       "    <tr>\n",
       "      <th>127033</th>\n",
       "      <td>508143</td>\n",
       "      <td>Female</td>\n",
       "      <td>38</td>\n",
       "      <td>1</td>\n",
       "      <td>28.0</td>\n",
       "      <td>0</td>\n",
       "      <td>1-2 Year</td>\n",
       "      <td>Yes</td>\n",
       "      <td>28700.0</td>\n",
       "      <td>122.0</td>\n",
       "      <td>165</td>\n",
       "    </tr>\n",
       "    <tr>\n",
       "      <th>127034</th>\n",
       "      <td>508144</td>\n",
       "      <td>Male</td>\n",
       "      <td>21</td>\n",
       "      <td>1</td>\n",
       "      <td>46.0</td>\n",
       "      <td>1</td>\n",
       "      <td>&lt; 1 Year</td>\n",
       "      <td>No</td>\n",
       "      <td>29802.0</td>\n",
       "      <td>152.0</td>\n",
       "      <td>74</td>\n",
       "    </tr>\n",
       "    <tr>\n",
       "      <th>127035</th>\n",
       "      <td>508145</td>\n",
       "      <td>Male</td>\n",
       "      <td>71</td>\n",
       "      <td>1</td>\n",
       "      <td>28.0</td>\n",
       "      <td>1</td>\n",
       "      <td>1-2 Year</td>\n",
       "      <td>No</td>\n",
       "      <td>62875.0</td>\n",
       "      <td>26.0</td>\n",
       "      <td>265</td>\n",
       "    </tr>\n",
       "    <tr>\n",
       "      <th>127036</th>\n",
       "      <td>508146</td>\n",
       "      <td>Male</td>\n",
       "      <td>41</td>\n",
       "      <td>1</td>\n",
       "      <td>29.0</td>\n",
       "      <td>1</td>\n",
       "      <td>1-2 Year</td>\n",
       "      <td>No</td>\n",
       "      <td>27927.0</td>\n",
       "      <td>124.0</td>\n",
       "      <td>231</td>\n",
       "    </tr>\n",
       "  </tbody>\n",
       "</table>\n",
       "</div>"
      ],
      "text/plain": [
       "            id  Gender  Age  Driving_License  Region_Code  Previously_Insured  \\\n",
       "127032  508142  Female   26                1         37.0                   1   \n",
       "127033  508143  Female   38                1         28.0                   0   \n",
       "127034  508144    Male   21                1         46.0                   1   \n",
       "127035  508145    Male   71                1         28.0                   1   \n",
       "127036  508146    Male   41                1         29.0                   1   \n",
       "\n",
       "       Vehicle_Age Vehicle_Damage  Annual_Premium  Policy_Sales_Channel  \\\n",
       "127032    < 1 Year             No         30867.0                 152.0   \n",
       "127033    1-2 Year            Yes         28700.0                 122.0   \n",
       "127034    < 1 Year             No         29802.0                 152.0   \n",
       "127035    1-2 Year             No         62875.0                  26.0   \n",
       "127036    1-2 Year             No         27927.0                 124.0   \n",
       "\n",
       "        Vintage  \n",
       "127032       56  \n",
       "127033      165  \n",
       "127034       74  \n",
       "127035      265  \n",
       "127036      231  "
      ]
     },
     "execution_count": 79,
     "metadata": {},
     "output_type": "execute_result"
    }
   ],
   "source": [
    "# Affichage des dernieres lignes\n",
    "test_original_df.tail()"
   ]
  },
  {
   "cell_type": "code",
   "execution_count": 80,
   "id": "40841047",
   "metadata": {},
   "outputs": [
    {
     "data": {
      "text/html": [
       "<div>\n",
       "<style scoped>\n",
       "    .dataframe tbody tr th:only-of-type {\n",
       "        vertical-align: middle;\n",
       "    }\n",
       "\n",
       "    .dataframe tbody tr th {\n",
       "        vertical-align: top;\n",
       "    }\n",
       "\n",
       "    .dataframe thead th {\n",
       "        text-align: right;\n",
       "    }\n",
       "</style>\n",
       "<table border=\"1\" class=\"dataframe\">\n",
       "  <thead>\n",
       "    <tr style=\"text-align: right;\">\n",
       "      <th></th>\n",
       "      <th>id</th>\n",
       "      <th>Age</th>\n",
       "      <th>Driving_License</th>\n",
       "      <th>Region_Code</th>\n",
       "      <th>Previously_Insured</th>\n",
       "      <th>Annual_Premium</th>\n",
       "      <th>Policy_Sales_Channel</th>\n",
       "      <th>Vintage</th>\n",
       "    </tr>\n",
       "  </thead>\n",
       "  <tbody>\n",
       "    <tr>\n",
       "      <th>count</th>\n",
       "      <td>127037.000000</td>\n",
       "      <td>127037.000000</td>\n",
       "      <td>127037.000000</td>\n",
       "      <td>127037.000000</td>\n",
       "      <td>127037.000000</td>\n",
       "      <td>127037.000000</td>\n",
       "      <td>127037.000000</td>\n",
       "      <td>127037.000000</td>\n",
       "    </tr>\n",
       "    <tr>\n",
       "      <th>mean</th>\n",
       "      <td>444628.000000</td>\n",
       "      <td>38.765903</td>\n",
       "      <td>0.998134</td>\n",
       "      <td>26.459866</td>\n",
       "      <td>0.460039</td>\n",
       "      <td>30524.643576</td>\n",
       "      <td>111.800468</td>\n",
       "      <td>154.318301</td>\n",
       "    </tr>\n",
       "    <tr>\n",
       "      <th>std</th>\n",
       "      <td>36672.567411</td>\n",
       "      <td>15.465814</td>\n",
       "      <td>0.043152</td>\n",
       "      <td>13.209916</td>\n",
       "      <td>0.498403</td>\n",
       "      <td>16945.297103</td>\n",
       "      <td>54.371765</td>\n",
       "      <td>83.661588</td>\n",
       "    </tr>\n",
       "    <tr>\n",
       "      <th>min</th>\n",
       "      <td>381110.000000</td>\n",
       "      <td>20.000000</td>\n",
       "      <td>0.000000</td>\n",
       "      <td>0.000000</td>\n",
       "      <td>0.000000</td>\n",
       "      <td>2630.000000</td>\n",
       "      <td>1.000000</td>\n",
       "      <td>10.000000</td>\n",
       "    </tr>\n",
       "    <tr>\n",
       "      <th>25%</th>\n",
       "      <td>412869.000000</td>\n",
       "      <td>25.000000</td>\n",
       "      <td>1.000000</td>\n",
       "      <td>15.000000</td>\n",
       "      <td>0.000000</td>\n",
       "      <td>24325.000000</td>\n",
       "      <td>26.000000</td>\n",
       "      <td>82.000000</td>\n",
       "    </tr>\n",
       "    <tr>\n",
       "      <th>50%</th>\n",
       "      <td>444628.000000</td>\n",
       "      <td>36.000000</td>\n",
       "      <td>1.000000</td>\n",
       "      <td>28.000000</td>\n",
       "      <td>0.000000</td>\n",
       "      <td>31642.000000</td>\n",
       "      <td>135.000000</td>\n",
       "      <td>154.000000</td>\n",
       "    </tr>\n",
       "    <tr>\n",
       "      <th>75%</th>\n",
       "      <td>476387.000000</td>\n",
       "      <td>49.000000</td>\n",
       "      <td>1.000000</td>\n",
       "      <td>35.000000</td>\n",
       "      <td>1.000000</td>\n",
       "      <td>39408.000000</td>\n",
       "      <td>152.000000</td>\n",
       "      <td>227.000000</td>\n",
       "    </tr>\n",
       "    <tr>\n",
       "      <th>max</th>\n",
       "      <td>508146.000000</td>\n",
       "      <td>85.000000</td>\n",
       "      <td>1.000000</td>\n",
       "      <td>52.000000</td>\n",
       "      <td>1.000000</td>\n",
       "      <td>472042.000000</td>\n",
       "      <td>163.000000</td>\n",
       "      <td>299.000000</td>\n",
       "    </tr>\n",
       "  </tbody>\n",
       "</table>\n",
       "</div>"
      ],
      "text/plain": [
       "                  id            Age  Driving_License    Region_Code  \\\n",
       "count  127037.000000  127037.000000    127037.000000  127037.000000   \n",
       "mean   444628.000000      38.765903         0.998134      26.459866   \n",
       "std     36672.567411      15.465814         0.043152      13.209916   \n",
       "min    381110.000000      20.000000         0.000000       0.000000   \n",
       "25%    412869.000000      25.000000         1.000000      15.000000   \n",
       "50%    444628.000000      36.000000         1.000000      28.000000   \n",
       "75%    476387.000000      49.000000         1.000000      35.000000   \n",
       "max    508146.000000      85.000000         1.000000      52.000000   \n",
       "\n",
       "       Previously_Insured  Annual_Premium  Policy_Sales_Channel        Vintage  \n",
       "count       127037.000000   127037.000000         127037.000000  127037.000000  \n",
       "mean             0.460039    30524.643576            111.800468     154.318301  \n",
       "std              0.498403    16945.297103             54.371765      83.661588  \n",
       "min              0.000000     2630.000000              1.000000      10.000000  \n",
       "25%              0.000000    24325.000000             26.000000      82.000000  \n",
       "50%              0.000000    31642.000000            135.000000     154.000000  \n",
       "75%              1.000000    39408.000000            152.000000     227.000000  \n",
       "max              1.000000   472042.000000            163.000000     299.000000  "
      ]
     },
     "execution_count": 80,
     "metadata": {},
     "output_type": "execute_result"
    }
   ],
   "source": [
    "# Description de nos données\n",
    "test_original_df.describe()"
   ]
  },
  {
   "cell_type": "markdown",
   "id": "ddd9ee7c",
   "metadata": {},
   "source": [
    "## 1.2. Les statistiques des données (Repésentation graphique)"
   ]
  },
  {
   "cell_type": "code",
   "execution_count": 81,
   "id": "14ad6b41",
   "metadata": {},
   "outputs": [
    {
     "data": {
      "text/plain": [
       "<AxesSubplot:title={'center':'test Gender'}, xlabel='Gender'>"
      ]
     },
     "execution_count": 81,
     "metadata": {},
     "output_type": "execute_result"
    },
    {
     "data": {
      "image/png": "[encoded data removed]",
      "text/plain": [
       "<Figure size 432x288 with 2 Axes>"
      ]
     },
     "metadata": {
      "needs_background": "light"
     },
     "output_type": "display_data"
    }
   ],
   "source": [
    "# La colonne 'Gender'\n",
    "origin_train_gender_graph = train_original_df.groupby(['Gender'])['Gender'].count()\n",
    "origin_test_gender_graph = test_original_df.groupby(['Gender'])['Gender'].count()\n",
    "plt.subplot(121)\n",
    "plt.tight_layout(w_pad=10.0)\n",
    "origin_train_gender_graph.plot(kind = 'bar', rot=45, title=\"train Gender\")\n",
    "plt.subplot(122)\n",
    "origin_test_gender_graph.plot(kind = 'bar', rot=45, title=\"test Gender\")"
   ]
  },
  {
   "cell_type": "code",
   "execution_count": 82,
   "id": "b0ea0793",
   "metadata": {},
   "outputs": [
    {
     "data": {
      "text/plain": [
       "<AxesSubplot:title={'center':'test Vehicle_Age'}, xlabel='Vehicle_Age'>"
      ]
     },
     "execution_count": 82,
     "metadata": {},
     "output_type": "execute_result"
    },
    {
     "data": {
      "image/png": "[encoded data removed]",
      "text/plain": [
       "<Figure size 432x288 with 2 Axes>"
      ]
     },
     "metadata": {
      "needs_background": "light"
     },
     "output_type": "display_data"
    }
   ],
   "source": [
    "# La colonne 'Vehicle_Age'\n",
    "origin_train_vehicleAge_graph = train_original_df.groupby(['Vehicle_Age'])['Vehicle_Age'].count()\n",
    "origin_test_vehicleAge_graph = test_original_df.groupby(['Vehicle_Age'])['Vehicle_Age'].count()\n",
    "plt.subplot(121)\n",
    "plt.tight_layout(w_pad=10.0)\n",
    "origin_train_vehicleAge_graph.plot(kind = 'bar', rot=45, title=\"train Vehicle_Age\")\n",
    "plt.subplot(122)\n",
    "origin_test_vehicleAge_graph.plot(kind = 'bar', rot=45, title=\"test Vehicle_Age\")"
   ]
  },
  {
   "cell_type": "markdown",
   "id": "a0a2403d",
   "metadata": {},
   "source": [
    "# 2. Pre-Processing"
   ]
  },
  {
   "cell_type": "markdown",
   "id": "306fed9a",
   "metadata": {},
   "source": [
    "## 2.1. Elimination des colonnes inutiles"
   ]
  },
  {
   "cell_type": "code",
   "execution_count": 83,
   "id": "13658aa2",
   "metadata": {},
   "outputs": [],
   "source": [
    " # eliminer la colonne 'id' du train_original_df\n",
    "train_original_df = train_original_df.drop(['id'], axis=1)"
   ]
  },
  {
   "cell_type": "code",
   "execution_count": 84,
   "id": "3c01a288",
   "metadata": {},
   "outputs": [],
   "source": [
    "# eliminer la colonne 'id' du test_original_df\n",
    "test_original_df = test_original_df.drop(['id'], axis=1)"
   ]
  },
  {
   "cell_type": "markdown",
   "id": "8576f89d",
   "metadata": {},
   "source": [
    "## 2.2. Vérification d'existance de valeurs null"
   ]
  },
  {
   "cell_type": "code",
   "execution_count": 85,
   "id": "c4e629a1",
   "metadata": {},
   "outputs": [
    {
     "data": {
      "text/plain": [
       "Gender                  0\n",
       "Age                     0\n",
       "Driving_License         0\n",
       "Region_Code             0\n",
       "Previously_Insured      0\n",
       "Vehicle_Age             0\n",
       "Vehicle_Damage          0\n",
       "Annual_Premium          0\n",
       "Policy_Sales_Channel    0\n",
       "Vintage                 0\n",
       "Response                0\n",
       "dtype: int64"
      ]
     },
     "execution_count": 85,
     "metadata": {},
     "output_type": "execute_result"
    }
   ],
   "source": [
    "# Vérifier si on a des valeur null dans train_original_df\n",
    "train_original_df.isnull().sum() # retourne la somme des valeurs nulles dans chaque colonne du dataframe"
   ]
  },
  {
   "cell_type": "code",
   "execution_count": 86,
   "id": "628d9f3c",
   "metadata": {},
   "outputs": [
    {
     "data": {
      "text/plain": [
       "Gender                  0\n",
       "Age                     0\n",
       "Driving_License         0\n",
       "Region_Code             0\n",
       "Previously_Insured      0\n",
       "Vehicle_Age             0\n",
       "Vehicle_Damage          0\n",
       "Annual_Premium          0\n",
       "Policy_Sales_Channel    0\n",
       "Vintage                 0\n",
       "dtype: int64"
      ]
     },
     "execution_count": 86,
     "metadata": {},
     "output_type": "execute_result"
    }
   ],
   "source": [
    "# Vérifier si on a des valeur null dans test_original_df\n",
    "test_original_df.isnull().sum() # retourne la somme des valeurs nulles dans chaque colonne du dataframe"
   ]
  },
  {
   "cell_type": "markdown",
   "id": "582bb62d",
   "metadata": {},
   "source": [
    "## 2.3. Encoding (transformer les valeurs string en valeurs numériques)"
   ]
  },
  {
   "cell_type": "code",
   "execution_count": 87,
   "id": "71d8dad5",
   "metadata": {},
   "outputs": [],
   "source": [
    "train_encoded_df = train_original_df\n",
    "test_encoded_df = test_original_df"
   ]
  },
  {
   "cell_type": "code",
   "execution_count": 88,
   "id": "73ffe1b3",
   "metadata": {},
   "outputs": [],
   "source": [
    "from sklearn.preprocessing import LabelEncoder\n",
    "def toEncodeData(df, colomn):\n",
    "    le = LabelEncoder()\n",
    "    le.fit(df[colomn]) # détecter les classes\n",
    "    print(le.classes_) # afficher les classes sous forme d'une liste\n",
    "    df[colomn] = le.transform(df[colomn]) # transformer les classes (toutes les valeurs string) en valeurs numériques"
   ]
  },
  {
   "cell_type": "code",
   "execution_count": 89,
   "id": "34db9f46",
   "metadata": {},
   "outputs": [
    {
     "name": "stdout",
     "output_type": "stream",
     "text": [
      "['Female' 'Male']\n",
      "['Female' 'Male']\n"
     ]
    }
   ],
   "source": [
    "# Encoder la colonne 'Gender'\n",
    "toEncodeData(train_encoded_df, 'Gender')\n",
    "toEncodeData(test_encoded_df, 'Gender')"
   ]
  },
  {
   "cell_type": "code",
   "execution_count": 90,
   "id": "4c5f8f3c",
   "metadata": {},
   "outputs": [
    {
     "name": "stdout",
     "output_type": "stream",
     "text": [
      "['1-2 Year' '< 1 Year' '> 2 Years']\n",
      "['1-2 Year' '< 1 Year' '> 2 Years']\n"
     ]
    }
   ],
   "source": [
    "# Encoder la colonne 'Gender'\n",
    "toEncodeData(train_encoded_df, 'Vehicle_Age')\n",
    "toEncodeData(test_encoded_df, 'Vehicle_Age')"
   ]
  },
  {
   "cell_type": "code",
   "execution_count": 91,
   "id": "4e8cd1cc",
   "metadata": {},
   "outputs": [
    {
     "name": "stdout",
     "output_type": "stream",
     "text": [
      "['No' 'Yes']\n",
      "['No' 'Yes']\n"
     ]
    }
   ],
   "source": [
    "# Encoder la colonne 'Vehicle_Damage'\n",
    "toEncodeData(train_encoded_df, 'Vehicle_Damage')\n",
    "toEncodeData(test_encoded_df, 'Vehicle_Damage')"
   ]
  },
  {
   "cell_type": "code",
   "execution_count": 92,
   "id": "89786c32",
   "metadata": {},
   "outputs": [
    {
     "data": {
      "text/html": [
       "<div>\n",
       "<style scoped>\n",
       "    .dataframe tbody tr th:only-of-type {\n",
       "        vertical-align: middle;\n",
       "    }\n",
       "\n",
       "    .dataframe tbody tr th {\n",
       "        vertical-align: top;\n",
       "    }\n",
       "\n",
       "    .dataframe thead th {\n",
       "        text-align: right;\n",
       "    }\n",
       "</style>\n",
       "<table border=\"1\" class=\"dataframe\">\n",
       "  <thead>\n",
       "    <tr style=\"text-align: right;\">\n",
       "      <th></th>\n",
       "      <th>Gender</th>\n",
       "      <th>Age</th>\n",
       "      <th>Driving_License</th>\n",
       "      <th>Region_Code</th>\n",
       "      <th>Previously_Insured</th>\n",
       "      <th>Vehicle_Age</th>\n",
       "      <th>Vehicle_Damage</th>\n",
       "      <th>Annual_Premium</th>\n",
       "      <th>Policy_Sales_Channel</th>\n",
       "      <th>Vintage</th>\n",
       "      <th>Response</th>\n",
       "    </tr>\n",
       "  </thead>\n",
       "  <tbody>\n",
       "    <tr>\n",
       "      <th>0</th>\n",
       "      <td>1</td>\n",
       "      <td>44</td>\n",
       "      <td>1</td>\n",
       "      <td>28.0</td>\n",
       "      <td>0</td>\n",
       "      <td>2</td>\n",
       "      <td>1</td>\n",
       "      <td>40454.0</td>\n",
       "      <td>26.0</td>\n",
       "      <td>217</td>\n",
       "      <td>1</td>\n",
       "    </tr>\n",
       "    <tr>\n",
       "      <th>1</th>\n",
       "      <td>1</td>\n",
       "      <td>76</td>\n",
       "      <td>1</td>\n",
       "      <td>3.0</td>\n",
       "      <td>0</td>\n",
       "      <td>0</td>\n",
       "      <td>0</td>\n",
       "      <td>33536.0</td>\n",
       "      <td>26.0</td>\n",
       "      <td>183</td>\n",
       "      <td>0</td>\n",
       "    </tr>\n",
       "    <tr>\n",
       "      <th>2</th>\n",
       "      <td>1</td>\n",
       "      <td>47</td>\n",
       "      <td>1</td>\n",
       "      <td>28.0</td>\n",
       "      <td>0</td>\n",
       "      <td>2</td>\n",
       "      <td>1</td>\n",
       "      <td>38294.0</td>\n",
       "      <td>26.0</td>\n",
       "      <td>27</td>\n",
       "      <td>1</td>\n",
       "    </tr>\n",
       "    <tr>\n",
       "      <th>3</th>\n",
       "      <td>1</td>\n",
       "      <td>21</td>\n",
       "      <td>1</td>\n",
       "      <td>11.0</td>\n",
       "      <td>1</td>\n",
       "      <td>1</td>\n",
       "      <td>0</td>\n",
       "      <td>28619.0</td>\n",
       "      <td>152.0</td>\n",
       "      <td>203</td>\n",
       "      <td>0</td>\n",
       "    </tr>\n",
       "    <tr>\n",
       "      <th>4</th>\n",
       "      <td>0</td>\n",
       "      <td>29</td>\n",
       "      <td>1</td>\n",
       "      <td>41.0</td>\n",
       "      <td>1</td>\n",
       "      <td>1</td>\n",
       "      <td>0</td>\n",
       "      <td>27496.0</td>\n",
       "      <td>152.0</td>\n",
       "      <td>39</td>\n",
       "      <td>0</td>\n",
       "    </tr>\n",
       "  </tbody>\n",
       "</table>\n",
       "</div>"
      ],
      "text/plain": [
       "   Gender  Age  Driving_License  Region_Code  Previously_Insured  Vehicle_Age  \\\n",
       "0       1   44                1         28.0                   0            2   \n",
       "1       1   76                1          3.0                   0            0   \n",
       "2       1   47                1         28.0                   0            2   \n",
       "3       1   21                1         11.0                   1            1   \n",
       "4       0   29                1         41.0                   1            1   \n",
       "\n",
       "   Vehicle_Damage  Annual_Premium  Policy_Sales_Channel  Vintage  Response  \n",
       "0               1         40454.0                  26.0      217         1  \n",
       "1               0         33536.0                  26.0      183         0  \n",
       "2               1         38294.0                  26.0       27         1  \n",
       "3               0         28619.0                 152.0      203         0  \n",
       "4               0         27496.0                 152.0       39         0  "
      ]
     },
     "execution_count": 92,
     "metadata": {},
     "output_type": "execute_result"
    }
   ],
   "source": [
    "#train_encoded_df.head()\n",
    "train_encoded_df.head()"
   ]
  },
  {
   "cell_type": "markdown",
   "id": "9b10b00f",
   "metadata": {},
   "source": [
    "# 3. Entraîner un model de classification"
   ]
  },
  {
   "cell_type": "markdown",
   "id": "73752f45",
   "metadata": {},
   "source": [
    "## 3.1. Choix de l'algorithme"
   ]
  },
  {
   "cell_type": "code",
   "execution_count": 93,
   "id": "39b7f490",
   "metadata": {},
   "outputs": [],
   "source": [
    "from sklearn.neighbors import KNeighborsClassifier\n",
    "# initialiser notre model\n",
    "modelKnn = KNeighborsClassifier(n_neighbors=1)"
   ]
  },
  {
   "cell_type": "markdown",
   "id": "1dfe34a7",
   "metadata": {},
   "source": [
    "## 3.2. Préparation de tableau numpy x et y"
   ]
  },
  {
   "cell_type": "code",
   "execution_count": 94,
   "id": "096c1239",
   "metadata": {},
   "outputs": [
    {
     "data": {
      "text/plain": [
       "\" pour entrainer un model, il faut qu'on aura 2 tableuax numpy,\\n    mais dans notre dataset on 'a q'un seul tableau pendas ==> donc on doit creer les 2 tableau numpy telque:\\n    Y: représente la colonne 'Response'\\n    X: représente le reste (toute les colonnes sauf 'Response') \\n    *** X, Y ne sont pas des tableaux numpy, sont des dataframes, sachant que pendas est construit sur la base de numpy\\n        donc on passe ces 2 tableau à 'scikit-learn' et tous va bien se passé ***\\n\""
      ]
     },
     "execution_count": 94,
     "metadata": {},
     "output_type": "execute_result"
    }
   ],
   "source": [
    "\"\"\" pour entrainer un model, il faut qu'on aura 2 tableuax numpy,\n",
    "    mais dans notre dataset on 'a q'un seul tableau pendas ==> donc on doit creer les 2 tableau numpy telque:\n",
    "    Y: représente la colonne 'Response'\n",
    "    X: représente le reste (toute les colonnes sauf 'Response') \n",
    "    *** X, Y ne sont pas des tableaux numpy, sont des dataframes, sachant que pendas est construit sur la base de numpy\n",
    "        donc on passe ces 2 tableau à 'scikit-learn' et tous va bien se passé ***\n",
    "\"\"\""
   ]
  },
  {
   "cell_type": "code",
   "execution_count": 95,
   "id": "b84cdc28",
   "metadata": {},
   "outputs": [],
   "source": [
    "# préparer les tableau X et Y\n",
    "y = train_encoded_df['Response'].to_numpy()\n",
    "X = train_encoded_df.drop('Response', axis=1).to_numpy() # eliminer la colonne 'Response'"
   ]
  },
  {
   "cell_type": "markdown",
   "id": "de8ff6f0",
   "metadata": {},
   "source": [
    "## 3.3. Spliter la data"
   ]
  },
  {
   "cell_type": "code",
   "execution_count": 96,
   "id": "045a758e",
   "metadata": {},
   "outputs": [],
   "source": [
    "from sklearn.model_selection import train_test_split\n",
    "X_train, X_test, y_train, y_test = train_test_split(X, y, random_state=5, test_size=0.2)"
   ]
  },
  {
   "cell_type": "code",
   "execution_count": 97,
   "id": "d9d7e3a4",
   "metadata": {},
   "outputs": [
    {
     "name": "stdout",
     "output_type": "stream",
     "text": [
      "(304887, 10)\n",
      "(76222, 10)\n"
     ]
    }
   ],
   "source": [
    "print(X_train.shape)\n",
    "print(X_test.shape)"
   ]
  },
  {
   "cell_type": "markdown",
   "id": "e75174e9",
   "metadata": {},
   "source": [
    "## 3.3. Entraîner notre model"
   ]
  },
  {
   "cell_type": "code",
   "execution_count": 98,
   "id": "ec8dffd2",
   "metadata": {},
   "outputs": [
    {
     "data": {
      "text/plain": [
       "KNeighborsClassifier(n_neighbors=1)"
      ]
     },
     "execution_count": 98,
     "metadata": {},
     "output_type": "execute_result"
    }
   ],
   "source": [
    "modelKnn.fit(X_train, y_train)"
   ]
  },
  {
   "cell_type": "markdown",
   "id": "6ecdc59e",
   "metadata": {},
   "source": [
    "# 4. Évaluer la performance de notre model"
   ]
  },
  {
   "cell_type": "code",
   "execution_count": 99,
   "id": "067d520e",
   "metadata": {},
   "outputs": [
    {
     "data": {
      "text/plain": [
       "0.7978273989136995"
      ]
     },
     "execution_count": 99,
     "metadata": {},
     "output_type": "execute_result"
    }
   ],
   "source": [
    "modelKnn.score(X_test, y_test)"
   ]
  },
  {
   "cell_type": "markdown",
   "id": "6010d9e3",
   "metadata": {},
   "source": [
    "# 5. Prédiction"
   ]
  },
  {
   "cell_type": "code",
   "execution_count": 100,
   "id": "a86e2695",
   "metadata": {},
   "outputs": [],
   "source": [
    "def interested(gender, age, driving_license, region_code, previously_insured, vehicle_age, vehicle_damage, annual_premium, policy_sales_channel, vintage):\n",
    "    x_predict = np.array([\n",
    "        gender, age, driving_license, region_code, previously_insured, vehicle_age, vehicle_damage, annual_premium, policy_sales_channel, vintage\n",
    "    ]).reshape(1, 10)\n",
    "    predictClass = modelKnn.predict(x_predict) # pédicri à quelle classe (intérissé ou non)\n",
    "    probaPredict = modelKnn.predict_proba(x_predict) # la probabilité d'être intérissé ou non\n",
    "    return (predictClass, probaPredict)"
   ]
  },
  {
   "cell_type": "markdown",
   "id": "9b3d2e9b",
   "metadata": {},
   "source": [
    "# 6. Tester le modèle"
   ]
  },
  {
   "cell_type": "code",
   "execution_count": 101,
   "id": "380f29e6",
   "metadata": {},
   "outputs": [
    {
     "name": "stdout",
     "output_type": "stream",
     "text": [
      "(array([0]), array([[1., 0.]]))\n"
     ]
    }
   ],
   "source": [
    "print(interested(1, 74, 1, 11.0, 1, 2, 1, 35786.0, 152.0, 53))"
   ]
  },
  {
   "cell_type": "markdown",
   "id": "cfd0f17d",
   "metadata": {},
   "source": [
    "# 7. Améliorer la perfermance du modèle avec cross validation"
   ]
  },
  {
   "cell_type": "code",
   "execution_count": 102,
   "id": "4f84083b",
   "metadata": {},
   "outputs": [],
   "source": [
    "from sklearn.model_selection import cross_val_score\n",
    "def getAvgCrossK(k, x_data, y_data):\n",
    "    return cross_val_score(KNeighborsClassifier(k), x_data, y_data, cv=5, scoring='accuracy').mean()"
   ]
  },
  {
   "cell_type": "code",
   "execution_count": 103,
   "id": "830d0c66",
   "metadata": {},
   "outputs": [],
   "source": [
    "k_value = [1, 3, 5, 7, 10, 15, 18, 35, 60, 100]\n",
    "trainScoreValue = []\n",
    "testScoreValue = []\n",
    "for i in k_value:\n",
    "    trainScoreValue.append(getAvgCrossK(i, X_train, y_train))\n",
    "    testScoreValue.append(getAvgCrossK(i, X_test, y_test))"
   ]
  },
  {
   "cell_type": "code",
   "execution_count": 107,
   "id": "80e4bd5b",
   "metadata": {},
   "outputs": [
    {
     "name": "stdout",
     "output_type": "stream",
     "text": [
      "[0.7982826370082163, 0.8419742330101185, 0.8579834458530617, 0.8661832054313914, 0.8750914262211005, 0.8758458048794455, 0.8768953737952188, 0.8771249675384734, 0.8771348073141265, 0.8771348073141265]\n"
     ]
    }
   ],
   "source": [
    "print(trainScoreValue)"
   ]
  },
  {
   "cell_type": "code",
   "execution_count": 108,
   "id": "5ee10787",
   "metadata": {},
   "outputs": [
    {
     "name": "stdout",
     "output_type": "stream",
     "text": [
      "[0.7993230329872297, 0.8472619341966287, 0.8635957898882239, 0.8707459685626329, 0.8773188872830964, 0.8778436658517028, 0.8785258851339087, 0.8786439609357837, 0.8786439609357837, 0.8786439609357837]\n"
     ]
    }
   ],
   "source": [
    "print(testScoreValue)"
   ]
  },
  {
   "cell_type": "code",
   "execution_count": 110,
   "id": "cb1d8db7",
   "metadata": {},
   "outputs": [
    {
     "data": {
      "text/plain": [
       "[<matplotlib.lines.Line2D at 0x7f2d8130f130>]"
      ]
     },
     "execution_count": 110,
     "metadata": {},
     "output_type": "execute_result"
    },
    {
     "data": {
      "image/png": "[encoded data removed]",
      "text/plain": [
       "<Figure size 432x288 with 1 Axes>"
      ]
     },
     "metadata": {
      "needs_background": "light"
     },
     "output_type": "display_data"
    }
   ],
   "source": [
    "plt.plot(trainScoreValue)\n",
    "plt.plot(testScoreValue)"
   ]
  }
 ],
 "metadata": {
  "kernelspec": {
   "display_name": "Python 3 (ipykernel)",
   "language": "python",
   "name": "python3"
  },
  "language_info": {
   "codemirror_mode": {
    "name": "ipython",
    "version": 3
   },
   "file_extension": ".py",
   "mimetype": "text/x-python",
   "name": "python",
   "nbconvert_exporter": "python",
   "pygments_lexer": "ipython3",
   "version": "3.8.10"
  }
 },
 "nbformat": 4,
 "nbformat_minor": 5
}
